{
 "cells": [
  {
   "cell_type": "markdown",
   "id": "5de992ae",
   "metadata": {
    "papermill": {
     "duration": 0.009748,
     "end_time": "2024-06-28T20:54:01.604464",
     "exception": false,
     "start_time": "2024-06-28T20:54:01.594716",
     "status": "completed"
    },
    "tags": []
   },
   "source": [
    "<center><h1>In the name of Allah</h1></center>"
   ]
  },
  {
   "cell_type": "markdown",
   "id": "da7bf9e8",
   "metadata": {
    "papermill": {
     "duration": 0.008919,
     "end_time": "2024-06-28T20:54:01.622954",
     "exception": false,
     "start_time": "2024-06-28T20:54:01.614035",
     "status": "completed"
    },
    "tags": []
   },
   "source": [
    "Name: Payam Taebi\n",
    "\n",
    "Student Number:400104867"
   ]
  },
  {
   "cell_type": "markdown",
   "id": "1046fa08",
   "metadata": {
    "papermill": {
     "duration": 0.009106,
     "end_time": "2024-06-28T20:54:01.641172",
     "exception": false,
     "start_time": "2024-06-28T20:54:01.632066",
     "status": "completed"
    },
    "tags": []
   },
   "source": [
    "In this notebook, you will explore adversarial attacks and training methods in deep learning. First, you will train a simple model, ResNet18, on the CIFAR-10 dataset. Next, you will learn about two different adversarial attacks: FGSM (Fast Gradient Sign Method) and PGD (Projected Gradient Descent). To enhance your understanding, you will implement the PGD attack from scratch, while the FGSM attack will be implemented using a library. After this, you will use the FGSM attack to generate adversarial examples and then perform adversarial training on the model using the CIFAR-10 dataset. Finally, you will compare the performance and robustness of the adversarially trained model with the original model. \n",
    "\n",
    "Good luck!"
   ]
  },
  {
   "cell_type": "markdown",
   "id": "d5224607",
   "metadata": {
    "papermill": {
     "duration": 0.009004,
     "end_time": "2024-06-28T20:54:01.659530",
     "exception": false,
     "start_time": "2024-06-28T20:54:01.650526",
     "status": "completed"
    },
    "tags": []
   },
   "source": [
    "## outline\n",
    "- Train Resnet on CIFAR10\n",
    "- FGSM Attack using torchattacks\n",
    "- PGD Attack from scratch\n",
    "- Visualization\n",
    "- Adversarial Training\n"
   ]
  },
  {
   "cell_type": "code",
   "execution_count": 1,
   "id": "e05fa533",
   "metadata": {
    "execution": {
     "iopub.execute_input": "2024-06-28T20:54:01.679328Z",
     "iopub.status.busy": "2024-06-28T20:54:01.678969Z",
     "iopub.status.idle": "2024-06-28T20:54:06.919698Z",
     "shell.execute_reply": "2024-06-28T20:54:06.918939Z"
    },
    "papermill": {
     "duration": 5.253376,
     "end_time": "2024-06-28T20:54:06.921950",
     "exception": false,
     "start_time": "2024-06-28T20:54:01.668574",
     "status": "completed"
    },
    "tags": []
   },
   "outputs": [],
   "source": [
    "import torch\n",
    "import torchvision\n",
    "import torchvision.transforms as transforms\n",
    "from torchvision.models import resnet18\n",
    "import torch.nn as nn\n",
    "import torch.nn.functional as F\n",
    "import torch.optim as optim\n",
    "import numpy as np\n",
    "from torch.autograd import Variable\n",
    "from tqdm import tqdm"
   ]
  },
  {
   "cell_type": "code",
   "execution_count": 2,
   "id": "f4952d2d",
   "metadata": {
    "execution": {
     "iopub.execute_input": "2024-06-28T20:54:06.943716Z",
     "iopub.status.busy": "2024-06-28T20:54:06.941772Z",
     "iopub.status.idle": "2024-06-28T20:54:06.995766Z",
     "shell.execute_reply": "2024-06-28T20:54:06.994852Z"
    },
    "papermill": {
     "duration": 0.066639,
     "end_time": "2024-06-28T20:54:06.998127",
     "exception": false,
     "start_time": "2024-06-28T20:54:06.931488",
     "status": "completed"
    },
    "tags": []
   },
   "outputs": [
    {
     "name": "stdout",
     "output_type": "stream",
     "text": [
      "cuda:0\n"
     ]
    }
   ],
   "source": [
    "device = 'cuda:0' if torch.cuda.is_available() else 'cpu'\n",
    "print(device)"
   ]
  },
  {
   "cell_type": "markdown",
   "id": "cfed55a2",
   "metadata": {
    "papermill": {
     "duration": 0.009247,
     "end_time": "2024-06-28T20:54:07.018003",
     "exception": false,
     "start_time": "2024-06-28T20:54:07.008756",
     "status": "completed"
    },
    "tags": []
   },
   "source": [
    "## Train Resnet on CIFAR10 (15 pts)"
   ]
  },
  {
   "cell_type": "code",
   "execution_count": 3,
   "id": "4f475722",
   "metadata": {
    "execution": {
     "iopub.execute_input": "2024-06-28T20:54:07.038452Z",
     "iopub.status.busy": "2024-06-28T20:54:07.037685Z",
     "iopub.status.idle": "2024-06-28T20:54:22.840912Z",
     "shell.execute_reply": "2024-06-28T20:54:22.840111Z"
    },
    "papermill": {
     "duration": 15.815773,
     "end_time": "2024-06-28T20:54:22.843178",
     "exception": false,
     "start_time": "2024-06-28T20:54:07.027405",
     "status": "completed"
    },
    "tags": []
   },
   "outputs": [
    {
     "name": "stdout",
     "output_type": "stream",
     "text": [
      "Downloading https://www.cs.toronto.edu/~kriz/cifar-10-python.tar.gz to ./data/cifar-10-python.tar.gz\n"
     ]
    },
    {
     "name": "stderr",
     "output_type": "stream",
     "text": [
      "100%|██████████| 170498071/170498071 [00:11<00:00, 15196424.10it/s]\n"
     ]
    },
    {
     "name": "stdout",
     "output_type": "stream",
     "text": [
      "Extracting ./data/cifar-10-python.tar.gz to ./data\n",
      "Files already downloaded and verified\n"
     ]
    }
   ],
   "source": [
    "# Define transformations for the training and test sets\n",
    "transform_train = transforms.Compose([\n",
    "    transforms.RandomCrop(32, padding=4),\n",
    "    transforms.RandomHorizontalFlip(),\n",
    "    transforms.ToTensor(),\n",
    "])\n",
    "\n",
    "transform_test = transforms.Compose([\n",
    "    transforms.ToTensor(),\n",
    "])\n",
    "\n",
    "# Load the CIFAR-10 training and test datasets\n",
    "trainset = torchvision.datasets.CIFAR10(root='./data', train=True, download=True, transform=transform_train)\n",
    "trainloader = torch.utils.data.DataLoader(trainset, batch_size=128, shuffle=True, num_workers=2)\n",
    "\n",
    "testset = torchvision.datasets.CIFAR10(root='./data', train=False, download=True, transform=transform_test)\n",
    "testloader = torch.utils.data.DataLoader(testset, batch_size=100, shuffle=False, num_workers=2)\n",
    "\n",
    "# Define the classes in CIFAR-10\n",
    "classes = ('plane', 'car', 'bird', 'cat', 'deer', 'dog', 'frog', 'horse', 'ship', 'truck')\n"
   ]
  },
  {
   "cell_type": "code",
   "execution_count": 4,
   "id": "ebbfc8f0",
   "metadata": {
    "execution": {
     "iopub.execute_input": "2024-06-28T20:54:22.876824Z",
     "iopub.status.busy": "2024-06-28T20:54:22.876176Z",
     "iopub.status.idle": "2024-06-28T20:54:23.268815Z",
     "shell.execute_reply": "2024-06-28T20:54:23.268017Z"
    },
    "papermill": {
     "duration": 0.411871,
     "end_time": "2024-06-28T20:54:23.271132",
     "exception": false,
     "start_time": "2024-06-28T20:54:22.859261",
     "status": "completed"
    },
    "tags": []
   },
   "outputs": [],
   "source": [
    "# Model architecture\n",
    "class ResNet(nn.Module):\n",
    "    def __init__(self, num_cls):\n",
    "        super().__init__()\n",
    "        self.conv = nn.Sequential(*list(resnet18(weights=None).children())[:-2])\n",
    "        self.fc = nn.Linear(512, num_cls)\n",
    "\n",
    "    def forward(self, x):\n",
    "        x = self.conv(x)\n",
    "        x = torch.flatten(x, start_dim=1)\n",
    "        logits = self.fc(x)\n",
    "        return logits\n",
    "\n",
    "# Initialize model and move to device\n",
    "device = torch.device(\"cuda\" if torch.cuda.is_available() else \"cpu\")\n",
    "model = ResNet(num_cls=len(classes)).to(device)\n",
    "\n",
    "################################ End #########################################\n"
   ]
  },
  {
   "cell_type": "code",
   "execution_count": 5,
   "id": "4a049bad",
   "metadata": {
    "execution": {
     "iopub.execute_input": "2024-06-28T20:54:23.304832Z",
     "iopub.status.busy": "2024-06-28T20:54:23.304242Z",
     "iopub.status.idle": "2024-06-28T20:54:23.309691Z",
     "shell.execute_reply": "2024-06-28T20:54:23.308859Z"
    },
    "papermill": {
     "duration": 0.024312,
     "end_time": "2024-06-28T20:54:23.311530",
     "exception": false,
     "start_time": "2024-06-28T20:54:23.287218",
     "status": "completed"
    },
    "tags": []
   },
   "outputs": [],
   "source": [
    "learning_rate = 0.01\n",
    "criterion = nn.CrossEntropyLoss()\n",
    "optimizer = optim.SGD(model.parameters(), lr=learning_rate, momentum=0.9)\n",
    "epochs = 100"
   ]
  },
  {
   "cell_type": "code",
   "execution_count": 6,
   "id": "419439bc",
   "metadata": {
    "execution": {
     "iopub.execute_input": "2024-06-28T20:54:23.345268Z",
     "iopub.status.busy": "2024-06-28T20:54:23.344550Z",
     "iopub.status.idle": "2024-06-28T21:34:16.282308Z",
     "shell.execute_reply": "2024-06-28T21:34:16.281217Z"
    },
    "papermill": {
     "duration": 2392.979308,
     "end_time": "2024-06-28T21:34:16.306866",
     "exception": false,
     "start_time": "2024-06-28T20:54:23.327558",
     "status": "completed"
    },
    "tags": []
   },
   "outputs": [
    {
     "name": "stdout",
     "output_type": "stream",
     "text": [
      "Epoch [1/100], Loss: 1.6923587840536367\n",
      "Epoch [2/100], Loss: 1.376214591133625\n",
      "Epoch [3/100], Loss: 1.211514735923094\n",
      "Epoch [4/100], Loss: 1.077691117211071\n",
      "Epoch [5/100], Loss: 0.9975619235307055\n",
      "Epoch [6/100], Loss: 0.9354312744591852\n",
      "Epoch [7/100], Loss: 0.8748786184184082\n",
      "Epoch [8/100], Loss: 0.833215408313\n",
      "Epoch [9/100], Loss: 0.7981095129571607\n",
      "Epoch [10/100], Loss: 0.759027043038317\n",
      "Epoch [11/100], Loss: 0.7342009570287622\n",
      "Epoch [12/100], Loss: 0.6994054531654739\n",
      "Epoch [13/100], Loss: 0.6797038594932507\n",
      "Epoch [14/100], Loss: 0.6548321526831068\n",
      "Epoch [15/100], Loss: 0.6398864084344995\n",
      "Epoch [16/100], Loss: 0.6178103878979793\n",
      "Epoch [17/100], Loss: 0.5974436906902382\n",
      "Epoch [18/100], Loss: 0.5815166817296802\n",
      "Epoch [19/100], Loss: 0.5669110793134441\n",
      "Epoch [20/100], Loss: 0.5494899668199632\n",
      "Epoch [21/100], Loss: 0.5388378795150601\n",
      "Epoch [22/100], Loss: 0.5229555460650598\n",
      "Epoch [23/100], Loss: 0.5112311353006631\n",
      "Epoch [24/100], Loss: 0.49804732477878366\n",
      "Epoch [25/100], Loss: 0.48472827322342815\n",
      "Epoch [26/100], Loss: 0.4748833202340109\n",
      "Epoch [27/100], Loss: 0.4628986973896661\n",
      "Epoch [28/100], Loss: 0.4546131088453181\n",
      "Epoch [29/100], Loss: 0.44061818147254417\n",
      "Epoch [30/100], Loss: 0.43032325674658234\n",
      "Epoch [31/100], Loss: 0.41963991004487744\n",
      "Epoch [32/100], Loss: 0.4109373033580268\n",
      "Epoch [33/100], Loss: 0.40488751080182506\n",
      "Epoch [34/100], Loss: 0.39491828868303763\n",
      "Epoch [35/100], Loss: 0.3843533097173247\n",
      "Epoch [36/100], Loss: 0.37602151122391986\n",
      "Epoch [37/100], Loss: 0.37380697416222614\n",
      "Epoch [38/100], Loss: 0.3655812797110404\n",
      "Epoch [39/100], Loss: 0.352569099811032\n",
      "Epoch [40/100], Loss: 0.3455692755672938\n",
      "Epoch [41/100], Loss: 0.33800924559840767\n",
      "Epoch [42/100], Loss: 0.32775696170756885\n",
      "Epoch [43/100], Loss: 0.3218519676600576\n",
      "Epoch [44/100], Loss: 0.3132027062156316\n",
      "Epoch [45/100], Loss: 0.3065645495224792\n",
      "Epoch [46/100], Loss: 0.30109082633043494\n",
      "Epoch [47/100], Loss: 0.29427955110969445\n",
      "Epoch [48/100], Loss: 0.28780741635185986\n",
      "Epoch [49/100], Loss: 0.2823581746624559\n",
      "Epoch [50/100], Loss: 0.27329215110110505\n",
      "Epoch [51/100], Loss: 0.268405394652463\n",
      "Epoch [52/100], Loss: 0.2666265151041853\n",
      "Epoch [53/100], Loss: 0.2562833411804855\n",
      "Epoch [54/100], Loss: 0.2554706804778265\n",
      "Epoch [55/100], Loss: 0.25538242634986064\n",
      "Epoch [56/100], Loss: 0.2444345966896133\n",
      "Epoch [57/100], Loss: 0.2329330858024185\n",
      "Epoch [58/100], Loss: 0.23415440681111782\n",
      "Epoch [59/100], Loss: 0.2271364122972159\n",
      "Epoch [60/100], Loss: 0.220930832483427\n",
      "Epoch [61/100], Loss: 0.21504942060965102\n",
      "Epoch [62/100], Loss: 0.2121462373210646\n",
      "Epoch [63/100], Loss: 0.2102571920398861\n",
      "Epoch [64/100], Loss: 0.2027383642580808\n",
      "Epoch [65/100], Loss: 0.1971595049323633\n",
      "Epoch [66/100], Loss: 0.20047279334891482\n",
      "Epoch [67/100], Loss: 0.19439440904675848\n",
      "Epoch [68/100], Loss: 0.19009657461396265\n",
      "Epoch [69/100], Loss: 0.18677328126814663\n",
      "Epoch [70/100], Loss: 0.17937007899898702\n",
      "Epoch [71/100], Loss: 0.17556373674965575\n",
      "Epoch [72/100], Loss: 0.17892524565729645\n",
      "Epoch [73/100], Loss: 0.16930249643028544\n",
      "Epoch [74/100], Loss: 0.1623299148343408\n",
      "Epoch [75/100], Loss: 0.16693727904573427\n",
      "Epoch [76/100], Loss: 0.1610066827453311\n",
      "Epoch [77/100], Loss: 0.1556071610287632\n",
      "Epoch [78/100], Loss: 0.15503287876544097\n",
      "Epoch [79/100], Loss: 0.15232263580726846\n",
      "Epoch [80/100], Loss: 0.14905335175830994\n",
      "Epoch [81/100], Loss: 0.14600777953786923\n",
      "Epoch [82/100], Loss: 0.14544050940467268\n",
      "Epoch [83/100], Loss: 0.14216176317552168\n",
      "Epoch [84/100], Loss: 0.13743219724701494\n",
      "Epoch [85/100], Loss: 0.13304072399349773\n",
      "Epoch [86/100], Loss: 0.13921156624698883\n",
      "Epoch [87/100], Loss: 0.13236033633980146\n",
      "Epoch [88/100], Loss: 0.1268225524603101\n",
      "Epoch [89/100], Loss: 0.12519086798286194\n",
      "Epoch [90/100], Loss: 0.12195078119197313\n",
      "Epoch [91/100], Loss: 0.11831713509281426\n",
      "Epoch [92/100], Loss: 0.11859472643803148\n",
      "Epoch [93/100], Loss: 0.11841247408934262\n",
      "Epoch [94/100], Loss: 0.11601899294158839\n",
      "Epoch [95/100], Loss: 0.10673771396546108\n",
      "Epoch [96/100], Loss: 0.10986174228112869\n",
      "Epoch [97/100], Loss: 0.108449273421179\n",
      "Epoch [98/100], Loss: 0.10603178974688815\n",
      "Epoch [99/100], Loss: 0.10380174454463564\n",
      "Epoch [100/100], Loss: 0.10466007558185883\n"
     ]
    }
   ],
   "source": [
    "##############################################################################\n",
    "# Implement train loop and log training loss after each epoch                #\n",
    "##############################################################################\n",
    "\n",
    "for epoch in range(epochs):\n",
    "    model.train()\n",
    "    running_loss = 0.0\n",
    "    for inputs, labels in trainloader:\n",
    "        inputs, labels = inputs.to(device), labels.to(device)\n",
    "        \n",
    "\n",
    "        optimizer.zero_grad()\n",
    "        \n",
    "        outputs = model(inputs)\n",
    "        loss = criterion(outputs, labels)\n",
    "        \n",
    "        loss.backward()\n",
    "        optimizer.step()\n",
    "        \n",
    "        running_loss += loss.item()\n",
    "    \n",
    "    # Log training loss\n",
    "    epoch_loss = running_loss / len(trainloader)\n",
    "    print(f'Epoch [{epoch + 1}/{epochs}], Loss: {epoch_loss}')\n",
    "\n",
    "################################ End #########################################\n"
   ]
  },
  {
   "cell_type": "code",
   "execution_count": 7,
   "id": "0ea34f06",
   "metadata": {
    "execution": {
     "iopub.execute_input": "2024-06-28T21:34:16.355346Z",
     "iopub.status.busy": "2024-06-28T21:34:16.354773Z",
     "iopub.status.idle": "2024-06-28T21:34:25.124417Z",
     "shell.execute_reply": "2024-06-28T21:34:25.123337Z"
    },
    "papermill": {
     "duration": 8.796294,
     "end_time": "2024-06-28T21:34:25.126666",
     "exception": false,
     "start_time": "2024-06-28T21:34:16.330372",
     "status": "completed"
    },
    "tags": []
   },
   "outputs": [
    {
     "name": "stdout",
     "output_type": "stream",
     "text": [
      "Train Accuracy of the model : 95.64%\n"
     ]
    }
   ],
   "source": [
    "##############################################################################\n",
    "# Evaluate the trained model on test set and print test accuracy             #\n",
    "##############################################################################\n",
    "\n",
    "model.eval()  # Set the model to evaluation mode\n",
    "correct = 0\n",
    "total = 0\n",
    "\n",
    "with torch.no_grad():  # No need\n",
    "    for inputs, labels in trainloader:\n",
    "        inputs, labels = inputs.to(device), labels.to(device)\n",
    "        outputs = model(inputs)\n",
    "        _, predicted = torch.max(outputs.data, 1)\n",
    "        total += labels.size(0)\n",
    "        correct += (predicted == labels).sum().item()\n",
    "\n",
    "accuracy = 100 * correct / total\n",
    "print(f'Train Accuracy of the model : {accuracy:.2f}%')\n",
    "\n",
    "################################ End #########################################\n"
   ]
  },
  {
   "cell_type": "code",
   "execution_count": 8,
   "id": "f9466fb5",
   "metadata": {
    "execution": {
     "iopub.execute_input": "2024-06-28T21:34:25.175009Z",
     "iopub.status.busy": "2024-06-28T21:34:25.174664Z",
     "iopub.status.idle": "2024-06-28T21:34:26.403348Z",
     "shell.execute_reply": "2024-06-28T21:34:26.402226Z"
    },
    "papermill": {
     "duration": 1.254906,
     "end_time": "2024-06-28T21:34:26.405455",
     "exception": false,
     "start_time": "2024-06-28T21:34:25.150549",
     "status": "completed"
    },
    "tags": []
   },
   "outputs": [
    {
     "name": "stdout",
     "output_type": "stream",
     "text": [
      "Test Accuracy of the model: 81.52%\n"
     ]
    }
   ],
   "source": [
    "##############################################################################\n",
    "# Evaluate the trained model on test set and print test accuracy             #\n",
    "##############################################################################\n",
    "\n",
    "model.eval() \n",
    "correct = 0\n",
    "total = 0\n",
    "\n",
    "with torch.no_grad():  # No need\n",
    "    for inputs, labels in testloader:\n",
    "        inputs, labels = inputs.to(device), labels.to(device)\n",
    "        outputs = model(inputs)\n",
    "        _, predicted = torch.max(outputs.data, 1)\n",
    "        total += labels.size(0)\n",
    "        correct += (predicted == labels).sum().item()\n",
    "\n",
    "accuracy = 100 * correct / total\n",
    "print(f'Test Accuracy of the model: {accuracy:.2f}%')\n",
    "\n",
    "################################ End #########################################\n"
   ]
  },
  {
   "cell_type": "code",
   "execution_count": 9,
   "id": "88c1e772",
   "metadata": {
    "execution": {
     "iopub.execute_input": "2024-06-28T21:34:26.454662Z",
     "iopub.status.busy": "2024-06-28T21:34:26.453999Z",
     "iopub.status.idle": "2024-06-28T21:34:26.535364Z",
     "shell.execute_reply": "2024-06-28T21:34:26.534571Z"
    },
    "papermill": {
     "duration": 0.108194,
     "end_time": "2024-06-28T21:34:26.537629",
     "exception": false,
     "start_time": "2024-06-28T21:34:26.429435",
     "status": "completed"
    },
    "tags": []
   },
   "outputs": [],
   "source": [
    "# Save model\n",
    "model.eval()\n",
    "model_name = \"resnet18_cifar10_model_pretrained.pth\"\n",
    "model_PATH = f\"{model_name}\"\n",
    "torch.save(model.state_dict(), model_PATH)"
   ]
  },
  {
   "cell_type": "markdown",
   "id": "b08c0c3f",
   "metadata": {
    "papermill": {
     "duration": 0.022943,
     "end_time": "2024-06-28T21:34:26.584195",
     "exception": false,
     "start_time": "2024-06-28T21:34:26.561252",
     "status": "completed"
    },
    "tags": []
   },
   "source": [
    "## FGSM Attack using torchattacks (10 pts)"
   ]
  },
  {
   "cell_type": "markdown",
   "id": "e40d047c",
   "metadata": {
    "papermill": {
     "duration": 0.02281,
     "end_time": "2024-06-28T21:34:26.630022",
     "exception": false,
     "start_time": "2024-06-28T21:34:26.607212",
     "status": "completed"
    },
    "tags": []
   },
   "source": [
    "In this section you should run FGSM attack using torchattacks library (https://adversarial-attacks-pytorch.readthedocs.io/en/latest/index.html).\n",
    "\n",
    "Run the attack for $\\epsilon \\in \\{\\frac{1}{255}, \\frac{4}{255}, \\frac{8}{255},\\}$ report the performance of the model on untargeted FGSM attack on the test data."
   ]
  },
  {
   "cell_type": "code",
   "execution_count": 10,
   "id": "95c9f119",
   "metadata": {
    "execution": {
     "iopub.execute_input": "2024-06-28T21:34:26.677687Z",
     "iopub.status.busy": "2024-06-28T21:34:26.677061Z",
     "iopub.status.idle": "2024-06-28T21:34:42.189258Z",
     "shell.execute_reply": "2024-06-28T21:34:42.188210Z"
    },
    "papermill": {
     "duration": 15.538495,
     "end_time": "2024-06-28T21:34:42.191589",
     "exception": false,
     "start_time": "2024-06-28T21:34:26.653094",
     "status": "completed"
    },
    "tags": []
   },
   "outputs": [
    {
     "name": "stdout",
     "output_type": "stream",
     "text": [
      "Collecting torchattacks\r\n",
      "  Downloading torchattacks-3.5.1-py3-none-any.whl.metadata (927 bytes)\r\n",
      "Requirement already satisfied: torch>=1.7.1 in /opt/conda/lib/python3.10/site-packages (from torchattacks) (2.1.2)\r\n",
      "Requirement already satisfied: torchvision>=0.8.2 in /opt/conda/lib/python3.10/site-packages (from torchattacks) (0.16.2)\r\n",
      "Requirement already satisfied: scipy>=0.14.0 in /opt/conda/lib/python3.10/site-packages (from torchattacks) (1.11.4)\r\n",
      "Requirement already satisfied: tqdm>=4.56.1 in /opt/conda/lib/python3.10/site-packages (from torchattacks) (4.66.4)\r\n",
      "Collecting requests~=2.25.1 (from torchattacks)\r\n",
      "  Downloading requests-2.25.1-py2.py3-none-any.whl.metadata (4.2 kB)\r\n",
      "Requirement already satisfied: numpy>=1.19.4 in /opt/conda/lib/python3.10/site-packages (from torchattacks) (1.26.4)\r\n",
      "Collecting chardet<5,>=3.0.2 (from requests~=2.25.1->torchattacks)\r\n",
      "  Downloading chardet-4.0.0-py2.py3-none-any.whl.metadata (3.5 kB)\r\n",
      "Collecting idna<3,>=2.5 (from requests~=2.25.1->torchattacks)\r\n",
      "  Downloading idna-2.10-py2.py3-none-any.whl.metadata (9.1 kB)\r\n",
      "Requirement already satisfied: urllib3<1.27,>=1.21.1 in /opt/conda/lib/python3.10/site-packages (from requests~=2.25.1->torchattacks) (1.26.18)\r\n",
      "Requirement already satisfied: certifi>=2017.4.17 in /opt/conda/lib/python3.10/site-packages (from requests~=2.25.1->torchattacks) (2024.2.2)\r\n",
      "Requirement already satisfied: filelock in /opt/conda/lib/python3.10/site-packages (from torch>=1.7.1->torchattacks) (3.13.1)\r\n",
      "Requirement already satisfied: typing-extensions in /opt/conda/lib/python3.10/site-packages (from torch>=1.7.1->torchattacks) (4.9.0)\r\n",
      "Requirement already satisfied: sympy in /opt/conda/lib/python3.10/site-packages (from torch>=1.7.1->torchattacks) (1.12.1)\r\n",
      "Requirement already satisfied: networkx in /opt/conda/lib/python3.10/site-packages (from torch>=1.7.1->torchattacks) (3.2.1)\r\n",
      "Requirement already satisfied: jinja2 in /opt/conda/lib/python3.10/site-packages (from torch>=1.7.1->torchattacks) (3.1.2)\r\n",
      "Requirement already satisfied: fsspec in /opt/conda/lib/python3.10/site-packages (from torch>=1.7.1->torchattacks) (2024.3.1)\r\n",
      "Requirement already satisfied: pillow!=8.3.*,>=5.3.0 in /opt/conda/lib/python3.10/site-packages (from torchvision>=0.8.2->torchattacks) (9.5.0)\r\n",
      "Requirement already satisfied: MarkupSafe>=2.0 in /opt/conda/lib/python3.10/site-packages (from jinja2->torch>=1.7.1->torchattacks) (2.1.3)\r\n",
      "Requirement already satisfied: mpmath<1.4.0,>=1.1.0 in /opt/conda/lib/python3.10/site-packages (from sympy->torch>=1.7.1->torchattacks) (1.3.0)\r\n",
      "Downloading torchattacks-3.5.1-py3-none-any.whl (142 kB)\r\n",
      "\u001b[2K   \u001b[90m━━━━━━━━━━━━━━━━━━━━━━━━━━━━━━━━━━━━━━━━\u001b[0m \u001b[32m142.0/142.0 kB\u001b[0m \u001b[31m2.8 MB/s\u001b[0m eta \u001b[36m0:00:00\u001b[0m\r\n",
      "\u001b[?25hDownloading requests-2.25.1-py2.py3-none-any.whl (61 kB)\r\n",
      "\u001b[2K   \u001b[90m━━━━━━━━━━━━━━━━━━━━━━━━━━━━━━━━━━━━━━━━\u001b[0m \u001b[32m61.2/61.2 kB\u001b[0m \u001b[31m4.5 MB/s\u001b[0m eta \u001b[36m0:00:00\u001b[0m\r\n",
      "\u001b[?25hDownloading chardet-4.0.0-py2.py3-none-any.whl (178 kB)\r\n",
      "\u001b[2K   \u001b[90m━━━━━━━━━━━━━━━━━━━━━━━━━━━━━━━━━━━━━━━━\u001b[0m \u001b[32m178.7/178.7 kB\u001b[0m \u001b[31m7.8 MB/s\u001b[0m eta \u001b[36m0:00:00\u001b[0m\r\n",
      "\u001b[?25hDownloading idna-2.10-py2.py3-none-any.whl (58 kB)\r\n",
      "\u001b[2K   \u001b[90m━━━━━━━━━━━━━━━━━━━━━━━━━━━━━━━━━━━━━━━━\u001b[0m \u001b[32m58.8/58.8 kB\u001b[0m \u001b[31m4.0 MB/s\u001b[0m eta \u001b[36m0:00:00\u001b[0m\r\n",
      "\u001b[?25hInstalling collected packages: idna, chardet, requests, torchattacks\r\n",
      "  Attempting uninstall: idna\r\n",
      "    Found existing installation: idna 3.6\r\n",
      "    Uninstalling idna-3.6:\r\n",
      "      Successfully uninstalled idna-3.6\r\n",
      "  Attempting uninstall: requests\r\n",
      "    Found existing installation: requests 2.32.3\r\n",
      "    Uninstalling requests-2.32.3:\r\n",
      "      Successfully uninstalled requests-2.32.3\r\n",
      "\u001b[31mERROR: pip's dependency resolver does not currently take into account all the packages that are installed. This behaviour is the source of the following dependency conflicts.\r\n",
      "keras-cv 0.9.0 requires keras-core, which is not installed.\r\n",
      "keras-nlp 0.12.1 requires keras-core, which is not installed.\r\n",
      "tensorflow-decision-forests 1.8.1 requires wurlitzer, which is not installed.\r\n",
      "apache-beam 2.46.0 requires dill<0.3.2,>=0.3.1.1, but you have dill 0.3.8 which is incompatible.\r\n",
      "apache-beam 2.46.0 requires numpy<1.25.0,>=1.14.3, but you have numpy 1.26.4 which is incompatible.\r\n",
      "apache-beam 2.46.0 requires pyarrow<10.0.0,>=3.0.0, but you have pyarrow 14.0.2 which is incompatible.\r\n",
      "beatrix-jupyterlab 2023.128.151533 requires jupyterlab~=3.6.0, but you have jupyterlab 4.2.1 which is incompatible.\r\n",
      "conda 24.5.0 requires packaging>=23.0, but you have packaging 21.3 which is incompatible.\r\n",
      "conda 24.5.0 requires requests<3,>=2.28.0, but you have requests 2.25.1 which is incompatible.\r\n",
      "datasets 2.19.2 requires requests>=2.32.1, but you have requests 2.25.1 which is incompatible.\r\n",
      "docker 7.0.0 requires requests>=2.26.0, but you have requests 2.25.1 which is incompatible.\r\n",
      "google-cloud-aiplatform 0.6.0a1 requires google-api-core[grpc]<2.0.0dev,>=1.22.2, but you have google-api-core 2.11.1 which is incompatible.\r\n",
      "google-cloud-automl 1.0.1 requires google-api-core[grpc]<2.0.0dev,>=1.14.0, but you have google-api-core 2.11.1 which is incompatible.\r\n",
      "jupyterlab 4.2.1 requires jupyter-lsp>=2.0.0, but you have jupyter-lsp 1.5.1 which is incompatible.\r\n",
      "jupyterlab-lsp 5.1.0 requires jupyter-lsp>=2.0.0, but you have jupyter-lsp 1.5.1 which is incompatible.\r\n",
      "jupyterlab-server 2.27.2 requires requests>=2.31, but you have requests 2.25.1 which is incompatible.\r\n",
      "kfp 2.5.0 requires google-cloud-storage<3,>=2.2.1, but you have google-cloud-storage 1.44.0 which is incompatible.\r\n",
      "libpysal 4.9.2 requires packaging>=22, but you have packaging 21.3 which is incompatible.\r\n",
      "libpysal 4.9.2 requires requests>=2.27, but you have requests 2.25.1 which is incompatible.\r\n",
      "libpysal 4.9.2 requires shapely>=2.0.1, but you have shapely 1.8.5.post1 which is incompatible.\r\n",
      "momepy 0.7.0 requires shapely>=2, but you have shapely 1.8.5.post1 which is incompatible.\r\n",
      "osmnx 1.9.3 requires requests>=2.27, but you have requests 2.25.1 which is incompatible.\r\n",
      "osmnx 1.9.3 requires shapely>=2.0, but you have shapely 1.8.5.post1 which is incompatible.\r\n",
      "spopt 0.6.0 requires shapely>=2.0.1, but you have shapely 1.8.5.post1 which is incompatible.\r\n",
      "tensorflow 2.15.0 requires keras<2.16,>=2.15.0, but you have keras 3.3.3 which is incompatible.\r\n",
      "ydata-profiling 4.6.4 requires numpy<1.26,>=1.16.0, but you have numpy 1.26.4 which is incompatible.\u001b[0m\u001b[31m\r\n",
      "\u001b[0mSuccessfully installed chardet-4.0.0 idna-2.10 requests-2.25.1 torchattacks-3.5.1\r\n"
     ]
    }
   ],
   "source": [
    "!pip install torchattacks\n",
    "import torchattacks"
   ]
  },
  {
   "cell_type": "code",
   "execution_count": 11,
   "id": "60b01942",
   "metadata": {
    "execution": {
     "iopub.execute_input": "2024-06-28T21:34:42.242748Z",
     "iopub.status.busy": "2024-06-28T21:34:42.242435Z",
     "iopub.status.idle": "2024-06-28T21:34:42.248545Z",
     "shell.execute_reply": "2024-06-28T21:34:42.247704Z"
    },
    "papermill": {
     "duration": 0.033562,
     "end_time": "2024-06-28T21:34:42.250555",
     "exception": false,
     "start_time": "2024-06-28T21:34:42.216993",
     "status": "completed"
    },
    "tags": []
   },
   "outputs": [],
   "source": [
    "def evaluate_adversarial(model, testloader, attack):\n",
    "    model.eval()\n",
    "    correct = 0\n",
    "    total = 0\n",
    "    \n",
    "    for inputs, labels in testloader:\n",
    "        inputs, labels = inputs.to(device), labels.to(device)\n",
    "        adv_inputs = attack(inputs, labels)\n",
    "        outputs = model(adv_inputs)\n",
    "        _, predicted = torch.max(outputs.data, 1)\n",
    "        total += labels.size(0)\n",
    "        correct += (predicted == labels).sum().item()\n",
    "    \n",
    "    accuracy = 100 * correct / total\n",
    "    return accuracy\n"
   ]
  },
  {
   "cell_type": "code",
   "execution_count": 12,
   "id": "0f9a1053",
   "metadata": {
    "execution": {
     "iopub.execute_input": "2024-06-28T21:34:42.301038Z",
     "iopub.status.busy": "2024-06-28T21:34:42.300754Z",
     "iopub.status.idle": "2024-06-28T21:34:44.852659Z",
     "shell.execute_reply": "2024-06-28T21:34:44.851500Z"
    },
    "papermill": {
     "duration": 2.579368,
     "end_time": "2024-06-28T21:34:44.854712",
     "exception": false,
     "start_time": "2024-06-28T21:34:42.275344",
     "status": "completed"
    },
    "tags": []
   },
   "outputs": [
    {
     "name": "stdout",
     "output_type": "stream",
     "text": [
      "FGSM Attack with epsilon=0.00392156862745098: Test Accuracy = 60.01%\n"
     ]
    }
   ],
   "source": [
    "##############################################################################\n",
    "# run untargeted FGSM attack for epsilon = 1/255 and report its accuracy     #\n",
    "##############################################################################\n",
    "\n",
    "\n",
    "epsilon = 1/255\n",
    "attack = torchattacks.FGSM(model, eps=epsilon)\n",
    "accuracy = evaluate_adversarial(model, testloader, attack)\n",
    "print(f'FGSM Attack with epsilon={epsilon}: Test Accuracy = {accuracy}%')\n",
    "\n",
    "\n",
    "\n",
    "\n",
    "################################ End #########################################"
   ]
  },
  {
   "cell_type": "code",
   "execution_count": 13,
   "id": "93100574",
   "metadata": {
    "execution": {
     "iopub.execute_input": "2024-06-28T21:34:44.908005Z",
     "iopub.status.busy": "2024-06-28T21:34:44.907240Z",
     "iopub.status.idle": "2024-06-28T21:34:47.373577Z",
     "shell.execute_reply": "2024-06-28T21:34:47.372406Z"
    },
    "papermill": {
     "duration": 2.495119,
     "end_time": "2024-06-28T21:34:47.375604",
     "exception": false,
     "start_time": "2024-06-28T21:34:44.880485",
     "status": "completed"
    },
    "tags": []
   },
   "outputs": [
    {
     "name": "stdout",
     "output_type": "stream",
     "text": [
      "FGSM Attack with epsilon=0.01568627450980392: Test Accuracy = 21.33%\n"
     ]
    }
   ],
   "source": [
    "##############################################################################\n",
    "# run untargeted FGSM attack for epsilon = 4/255 and report its accuracy     #\n",
    "##############################################################################\n",
    "\n",
    "\n",
    "# FGSM Attack with epsilon=4/255\n",
    "epsilon = 4/255\n",
    "attack = torchattacks.FGSM(model, eps=epsilon)\n",
    "accuracy = evaluate_adversarial(model, testloader, attack)\n",
    "print(f'FGSM Attack with epsilon={epsilon}: Test Accuracy = {accuracy}%')\n",
    "\n",
    "\n",
    "\n",
    "\n",
    "\n",
    "################################ End #########################################"
   ]
  },
  {
   "cell_type": "code",
   "execution_count": 14,
   "id": "0d8cba25",
   "metadata": {
    "execution": {
     "iopub.execute_input": "2024-06-28T21:34:47.429684Z",
     "iopub.status.busy": "2024-06-28T21:34:47.428852Z",
     "iopub.status.idle": "2024-06-28T21:34:49.844824Z",
     "shell.execute_reply": "2024-06-28T21:34:49.843664Z"
    },
    "papermill": {
     "duration": 2.445579,
     "end_time": "2024-06-28T21:34:49.846849",
     "exception": false,
     "start_time": "2024-06-28T21:34:47.401270",
     "status": "completed"
    },
    "tags": []
   },
   "outputs": [
    {
     "name": "stdout",
     "output_type": "stream",
     "text": [
      "FGSM Attack with epsilon=0.03137254901960784: Test Accuracy = 11.16%\n"
     ]
    }
   ],
   "source": [
    "##############################################################################\n",
    "# run untargeted FGSM attack for epsilon = 8/255 and report its accuracy     #\n",
    "##############################################################################\n",
    "\n",
    "\n",
    "# FGSM Attack with epsilon=4/255\n",
    "epsilon = 8/255\n",
    "attack = torchattacks.FGSM(model, eps=epsilon)\n",
    "accuracy = evaluate_adversarial(model, testloader, attack)\n",
    "print(f'FGSM Attack with epsilon={epsilon}: Test Accuracy = {accuracy}%')\n",
    "\n",
    "\n",
    "\n",
    "\n",
    "\n",
    "################################ End #########################################"
   ]
  },
  {
   "cell_type": "markdown",
   "id": "f276da6d",
   "metadata": {
    "papermill": {
     "duration": 0.024899,
     "end_time": "2024-06-28T21:34:49.898193",
     "exception": false,
     "start_time": "2024-06-28T21:34:49.873294",
     "status": "completed"
    },
    "tags": []
   },
   "source": [
    "## PGD Attack from scratch (30 pts)"
   ]
  },
  {
   "cell_type": "markdown",
   "id": "7284b09c",
   "metadata": {
    "papermill": {
     "duration": 0.025245,
     "end_time": "2024-06-28T21:34:49.953073",
     "exception": false,
     "start_time": "2024-06-28T21:34:49.927828",
     "status": "completed"
    },
    "tags": []
   },
   "source": [
    "In this section you should implement PGD attack from scratch."
   ]
  },
  {
   "cell_type": "code",
   "execution_count": 15,
   "id": "236289cf",
   "metadata": {
    "execution": {
     "iopub.execute_input": "2024-06-28T21:34:50.008133Z",
     "iopub.status.busy": "2024-06-28T21:34:50.007542Z",
     "iopub.status.idle": "2024-06-28T21:34:50.016716Z",
     "shell.execute_reply": "2024-06-28T21:34:50.015796Z"
    },
    "papermill": {
     "duration": 0.03912,
     "end_time": "2024-06-28T21:34:50.018677",
     "exception": false,
     "start_time": "2024-06-28T21:34:49.979557",
     "status": "completed"
    },
    "tags": []
   },
   "outputs": [],
   "source": [
    "class LinfPGDAttack:\n",
    "    def __init__(self, model, epsilon=8/255, num_steps=2, step_size=2/255):\n",
    "        self.model = model\n",
    "        self.epsilon = epsilon\n",
    "        self.num_steps = num_steps\n",
    "        self.step_size = step_size\n",
    "\n",
    "    def perturb(self, images, labels):\n",
    "        images = images.to(device)\n",
    "        labels = labels.to(device)\n",
    "\n",
    "        adv_images = images.clone().detach().to(device)\n",
    "        adv_images.requires_grad = True\n",
    "\n",
    "        for _ in range(self.num_steps):\n",
    "            outputs = self.model(adv_images)\n",
    "            loss = F.cross_entropy(outputs, labels)\n",
    "\n",
    "            self.model.zero_grad()\n",
    "            loss.backward()\n",
    "\n",
    "            with torch.no_grad():\n",
    "                adv_images += self.step_size * adv_images.grad.sign()\n",
    "                adv_images = torch.clamp(adv_images, min=images - self.epsilon, max=images + self.epsilon)\n",
    "                adv_images = torch.clamp(adv_images, 0, 1)\n",
    "\n",
    "            adv_images = adv_images.detach()\n",
    "            adv_images.requires_grad = True\n",
    "\n",
    "        return adv_images\n",
    "\n",
    "    def __call__(self, images, labels):\n",
    "        return self.perturb(images, labels)\n"
   ]
  },
  {
   "cell_type": "code",
   "execution_count": 16,
   "id": "618d67e9",
   "metadata": {
    "execution": {
     "iopub.execute_input": "2024-06-28T21:34:50.069863Z",
     "iopub.status.busy": "2024-06-28T21:34:50.069343Z",
     "iopub.status.idle": "2024-06-28T21:35:08.795798Z",
     "shell.execute_reply": "2024-06-28T21:35:08.794475Z"
    },
    "papermill": {
     "duration": 18.754475,
     "end_time": "2024-06-28T21:35:08.797972",
     "exception": false,
     "start_time": "2024-06-28T21:34:50.043497",
     "status": "completed"
    },
    "tags": []
   },
   "outputs": [
    {
     "name": "stdout",
     "output_type": "stream",
     "text": [
      "PGD Attack: Test Accuracy = 0.35%\n"
     ]
    }
   ],
   "source": [
    "def evaluate_pgd_adversarial(model, testloader, attack):\n",
    "    model.eval()\n",
    "    correct = 0\n",
    "    total = 0\n",
    "    \n",
    "    for inputs, labels in testloader:\n",
    "        inputs, labels = inputs.to(device), labels.to(device)\n",
    "        adv_inputs = attack(inputs, labels)\n",
    "        outputs = model(adv_inputs)\n",
    "        _, predicted = torch.max(outputs.data, 1)\n",
    "        total += labels.size(0)\n",
    "        correct += (predicted == labels).sum().item()\n",
    "    \n",
    "    accuracy = 100 * correct / total\n",
    "    return accuracy\n",
    "\n",
    "# PGD Attack evaluation\n",
    "pgd_attack = LinfPGDAttack(model, epsilon=8/255, num_steps=10, step_size=2/255)\n",
    "accuracy = evaluate_pgd_adversarial(model, testloader, pgd_attack)\n",
    "print(f'PGD Attack: Test Accuracy = {accuracy:.2f}%')\n"
   ]
  },
  {
   "cell_type": "code",
   "execution_count": 17,
   "id": "a42dd73d",
   "metadata": {
    "execution": {
     "iopub.execute_input": "2024-06-28T21:35:08.850648Z",
     "iopub.status.busy": "2024-06-28T21:35:08.850089Z",
     "iopub.status.idle": "2024-06-28T21:35:36.669929Z",
     "shell.execute_reply": "2024-06-28T21:35:36.668648Z"
    },
    "papermill": {
     "duration": 27.848068,
     "end_time": "2024-06-28T21:35:36.672141",
     "exception": false,
     "start_time": "2024-06-28T21:35:08.824073",
     "status": "completed"
    },
    "tags": []
   },
   "outputs": [
    {
     "name": "stdout",
     "output_type": "stream",
     "text": [
      "Accuracy of the model on the 10000 test images after PGD attack with k = 2: 15.60 %\n",
      "Accuracy of the model on the 10000 test images after PGD attack with k = 4: 2.42 %\n",
      "Accuracy of the model on the 10000 test images after PGD attack with k = 8: 0.46 %\n"
     ]
    }
   ],
   "source": [
    "##############################################################################\n",
    "# Evaluate PGD attack on the trained model with k=2,4,8                      #\n",
    "##############################################################################\n",
    "\n",
    "k_list = [2, 4, 8]\n",
    "\n",
    "for k in k_list:\n",
    "    pgd_attack = LinfPGDAttack(model, epsilon=8/255, num_steps=k, step_size=2/255)\n",
    "    accuracy = evaluate_pgd_adversarial(model, testloader, pgd_attack)\n",
    "    print(f'Accuracy of the model on the 10000 test images after PGD attack with k = {k}: {accuracy:.2f} %')\n",
    "\n",
    "################################ End #########################################\n"
   ]
  },
  {
   "cell_type": "markdown",
   "id": "09bd631b",
   "metadata": {
    "papermill": {
     "duration": 0.024951,
     "end_time": "2024-06-28T21:35:36.722840",
     "exception": false,
     "start_time": "2024-06-28T21:35:36.697889",
     "status": "completed"
    },
    "tags": []
   },
   "source": [
    "## Visualization (10 pts)"
   ]
  },
  {
   "cell_type": "markdown",
   "id": "18f6441e",
   "metadata": {
    "papermill": {
     "duration": 0.024722,
     "end_time": "2024-06-28T21:35:36.772562",
     "exception": false,
     "start_time": "2024-06-28T21:35:36.747840",
     "status": "completed"
    },
    "tags": []
   },
   "source": [
    "Implement a function to plot the original image, the perturbed imaged and their predicted labels by the model"
   ]
  },
  {
   "cell_type": "code",
   "execution_count": 18,
   "id": "9e6b7191",
   "metadata": {
    "execution": {
     "iopub.execute_input": "2024-06-28T21:35:36.824180Z",
     "iopub.status.busy": "2024-06-28T21:35:36.823835Z",
     "iopub.status.idle": "2024-06-28T21:35:36.835195Z",
     "shell.execute_reply": "2024-06-28T21:35:36.834362Z"
    },
    "papermill": {
     "duration": 0.039532,
     "end_time": "2024-06-28T21:35:36.837099",
     "exception": false,
     "start_time": "2024-06-28T21:35:36.797567",
     "status": "completed"
    },
    "tags": []
   },
   "outputs": [],
   "source": [
    "##############################################################################\n",
    "# Implement the function described                                           #\n",
    "##############################################################################\n",
    "\n",
    "import matplotlib.pyplot as plt\n",
    "import random\n",
    "\n",
    "def visualize_attack(model, attack, testloader, attack_name, num_images=3):\n",
    "    model.eval()\n",
    "    \n",
    "    dataiter = iter(testloader)\n",
    "    images, labels = next(dataiter)\n",
    "    images, labels = images.to(device), labels.to(device)\n",
    "    \n",
    "    # Select random images\n",
    "    indices = random.sample(range(len(images)), num_images)\n",
    "    selected_images = images[indices]\n",
    "    selected_labels = labels[indices]\n",
    "    \n",
    "    # Get perturbed images\n",
    "    perturbed_images = attack(selected_images, selected_labels)\n",
    "    \n",
    "    # Get model predictions\n",
    "    original_outputs = model(selected_images)\n",
    "    perturbed_outputs = model(perturbed_images)\n",
    "    \n",
    "    _, original_preds = torch.max(original_outputs, 1)\n",
    "    _, perturbed_preds = torch.max(perturbed_outputs, 1)\n",
    "    \n",
    "    # Plotting\n",
    "    fig, axes = plt.subplots(num_images, 2, figsize=(10, 10))\n",
    "    for i in range(num_images):\n",
    "        # Original Image\n",
    "        axes[i, 0].imshow(selected_images[i].cpu().permute(1, 2, 0).detach().numpy())\n",
    "        axes[i, 0].set_title(f'Original: {classes[selected_labels[i]]}\\nPredicted: {classes[original_preds[i]]}')\n",
    "        axes[i, 0].axis('off')\n",
    "        \n",
    "        # Perturbed Image\n",
    "        axes[i, 1].imshow(perturbed_images[i].cpu().permute(1, 2, 0).detach().numpy())\n",
    "        axes[i, 1].set_title(f'Perturbed: {classes[selected_labels[i]]}\\nPredicted: {classes[perturbed_preds[i]]}')\n",
    "        axes[i, 1].axis('off')\n",
    "    \n",
    "    plt.suptitle(f'{attack_name} Attack Visualization', fontsize=16)\n",
    "    plt.tight_layout()\n",
    "    plt.show()\n",
    "\n",
    "\n",
    "################################ End #########################################"
   ]
  },
  {
   "cell_type": "code",
   "execution_count": 19,
   "id": "2c0b6b3d",
   "metadata": {
    "execution": {
     "iopub.execute_input": "2024-06-28T21:35:36.888668Z",
     "iopub.status.busy": "2024-06-28T21:35:36.888016Z",
     "iopub.status.idle": "2024-06-28T21:35:37.928452Z",
     "shell.execute_reply": "2024-06-28T21:35:37.927623Z"
    },
    "papermill": {
     "duration": 1.068555,
     "end_time": "2024-06-28T21:35:37.930701",
     "exception": false,
     "start_time": "2024-06-28T21:35:36.862146",
     "status": "completed"
    },
    "tags": []
   },
   "outputs": [
    {
     "data": {
      "image/png": "[encoded data removed]",
      "text/plain": [
       "<Figure size 1000x1000 with 6 Axes>"
      ]
     },
     "metadata": {},
     "output_type": "display_data"
    }
   ],
   "source": [
    "##############################################################################\n",
    "# Choose 3 random images from testset and run FGSM attack and visualize      #\n",
    "##############################################################################\n",
    "\n",
    "fgsm_attack = torchattacks.FGSM(model, eps=8/255)\n",
    "visualize_attack(model, fgsm_attack, testloader, 'FGSM')\n",
    "\n",
    "\n",
    "################################ End #########################################"
   ]
  },
  {
   "cell_type": "code",
   "execution_count": 20,
   "id": "7d1dc7fd",
   "metadata": {
    "execution": {
     "iopub.execute_input": "2024-06-28T21:35:37.985131Z",
     "iopub.status.busy": "2024-06-28T21:35:37.984836Z",
     "iopub.status.idle": "2024-06-28T21:35:38.770998Z",
     "shell.execute_reply": "2024-06-28T21:35:38.769956Z"
    },
    "papermill": {
     "duration": 0.815595,
     "end_time": "2024-06-28T21:35:38.773285",
     "exception": false,
     "start_time": "2024-06-28T21:35:37.957690",
     "status": "completed"
    },
    "tags": []
   },
   "outputs": [
    {
     "data": {
      "image/png": "[encoded data removed]",
      "text/plain": [
       "<Figure size 1000x1000 with 6 Axes>"
      ]
     },
     "metadata": {},
     "output_type": "display_data"
    }
   ],
   "source": [
    "##############################################################################\n",
    "# Choose 3 random images from testset and run PGD attack and visualize      #\n",
    "##############################################################################\n",
    "\n",
    "\n",
    "pgd_attack = LinfPGDAttack(model, epsilon=8/255, num_steps=10, step_size=2/255)\n",
    "visualize_attack(model, pgd_attack, testloader, 'PGD')\n",
    "\n",
    "\n",
    "################################ End #########################################"
   ]
  },
  {
   "cell_type": "markdown",
   "id": "4a736c7f",
   "metadata": {
    "papermill": {
     "duration": 0.026871,
     "end_time": "2024-06-28T21:35:38.828035",
     "exception": false,
     "start_time": "2024-06-28T21:35:38.801164",
     "status": "completed"
    },
    "tags": []
   },
   "source": [
    "## Adversarial Training (35 pts)"
   ]
  },
  {
   "cell_type": "markdown",
   "id": "100f9eab",
   "metadata": {
    "papermill": {
     "duration": 0.026518,
     "end_time": "2024-06-28T21:35:38.881474",
     "exception": false,
     "start_time": "2024-06-28T21:35:38.854956",
     "status": "completed"
    },
    "tags": []
   },
   "source": [
    "In this section you are going to adversarially train your model and see the results. "
   ]
  },
  {
   "cell_type": "code",
   "execution_count": 21,
   "id": "4580e8bd",
   "metadata": {
    "execution": {
     "iopub.execute_input": "2024-06-28T21:35:38.936487Z",
     "iopub.status.busy": "2024-06-28T21:35:38.936153Z",
     "iopub.status.idle": "2024-06-28T22:26:36.892306Z",
     "shell.execute_reply": "2024-06-28T22:26:36.891226Z"
    },
    "papermill": {
     "duration": 3058.020902,
     "end_time": "2024-06-28T22:26:36.929138",
     "exception": false,
     "start_time": "2024-06-28T21:35:38.908236",
     "status": "completed"
    },
    "tags": []
   },
   "outputs": [
    {
     "name": "stdout",
     "output_type": "stream",
     "text": [
      "Epoch [1/100], Loss: 2.2006266428076704\n",
      "Epoch [2/100], Loss: 2.0916983175765522\n",
      "Epoch [3/100], Loss: 2.037704934854337\n",
      "Epoch [4/100], Loss: 2.0048208300719788\n",
      "Epoch [5/100], Loss: 1.9809621173097653\n",
      "Epoch [6/100], Loss: 1.9621980492111362\n",
      "Epoch [7/100], Loss: 1.9416042682155015\n",
      "Epoch [8/100], Loss: 1.9300936948307945\n",
      "Epoch [9/100], Loss: 1.9117659132194031\n",
      "Epoch [10/100], Loss: 1.8986624918325479\n",
      "Epoch [11/100], Loss: 1.8843587389992327\n",
      "Epoch [12/100], Loss: 1.870939380982343\n",
      "Epoch [13/100], Loss: 1.8618182334143791\n",
      "Epoch [14/100], Loss: 1.8550801896073323\n",
      "Epoch [15/100], Loss: 1.8434209158963255\n",
      "Epoch [16/100], Loss: 1.8339038142157942\n",
      "Epoch [17/100], Loss: 1.8205828904495824\n",
      "Epoch [18/100], Loss: 1.8156237184544048\n",
      "Epoch [19/100], Loss: 1.810631226395707\n",
      "Epoch [20/100], Loss: 1.7980388287083267\n",
      "Epoch [21/100], Loss: 1.7942011441721026\n",
      "Epoch [22/100], Loss: 1.7834247643380519\n",
      "Epoch [23/100], Loss: 1.77478357410187\n",
      "Epoch [24/100], Loss: 1.7675331562681271\n",
      "Epoch [25/100], Loss: 1.7616955996169459\n",
      "Epoch [26/100], Loss: 1.7523607899770712\n",
      "Epoch [27/100], Loss: 1.7460419656065724\n",
      "Epoch [28/100], Loss: 1.7406358807288167\n",
      "Epoch [29/100], Loss: 1.7339407812299021\n",
      "Epoch [30/100], Loss: 1.7242480229843609\n",
      "Epoch [31/100], Loss: 1.721154456553252\n",
      "Epoch [32/100], Loss: 1.7154547976106025\n",
      "Epoch [33/100], Loss: 1.7054774654490867\n",
      "Epoch [34/100], Loss: 1.6999093312436662\n",
      "Epoch [35/100], Loss: 1.6935220901923411\n",
      "Epoch [36/100], Loss: 1.6857624105785205\n",
      "Epoch [37/100], Loss: 1.6805081324809044\n",
      "Epoch [38/100], Loss: 1.6712555900559096\n",
      "Epoch [39/100], Loss: 1.6667622455855464\n",
      "Epoch [40/100], Loss: 1.6636415396809883\n",
      "Epoch [41/100], Loss: 1.6567048944170824\n",
      "Epoch [42/100], Loss: 1.6500192069641464\n",
      "Epoch [43/100], Loss: 1.6427244883973886\n",
      "Epoch [44/100], Loss: 1.640836861737244\n",
      "Epoch [45/100], Loss: 1.6285215668056323\n",
      "Epoch [46/100], Loss: 1.6264233180629017\n",
      "Epoch [47/100], Loss: 1.6204991523567063\n",
      "Epoch [48/100], Loss: 1.6134959724553102\n",
      "Epoch [49/100], Loss: 1.6061831121249577\n",
      "Epoch [50/100], Loss: 1.6006428521612417\n",
      "Epoch [51/100], Loss: 1.5953700133906605\n",
      "Epoch [52/100], Loss: 1.589271195404365\n",
      "Epoch [53/100], Loss: 1.5851772237006965\n",
      "Epoch [54/100], Loss: 1.5786538761290139\n",
      "Epoch [55/100], Loss: 1.570484774191971\n",
      "Epoch [56/100], Loss: 1.5668060758229716\n",
      "Epoch [57/100], Loss: 1.5576215397061595\n",
      "Epoch [58/100], Loss: 1.5533767761781698\n",
      "Epoch [59/100], Loss: 1.5498386505619643\n",
      "Epoch [60/100], Loss: 1.5428601884476059\n",
      "Epoch [61/100], Loss: 1.5375363790165737\n",
      "Epoch [62/100], Loss: 1.529948154678735\n",
      "Epoch [63/100], Loss: 1.5284212297185913\n",
      "Epoch [64/100], Loss: 1.5184630908624595\n",
      "Epoch [65/100], Loss: 1.5120596541163256\n",
      "Epoch [66/100], Loss: 1.5063621345383431\n",
      "Epoch [67/100], Loss: 1.501211365470496\n",
      "Epoch [68/100], Loss: 1.4954227242628326\n",
      "Epoch [69/100], Loss: 1.4896517790796813\n",
      "Epoch [70/100], Loss: 1.4847201794919456\n",
      "Epoch [71/100], Loss: 1.4760311201710226\n",
      "Epoch [72/100], Loss: 1.4684855706246613\n",
      "Epoch [73/100], Loss: 1.4646686080776516\n",
      "Epoch [74/100], Loss: 1.4541102553267613\n",
      "Epoch [75/100], Loss: 1.4499072708437204\n",
      "Epoch [76/100], Loss: 1.4450674313108633\n",
      "Epoch [77/100], Loss: 1.4386233786487823\n",
      "Epoch [78/100], Loss: 1.4306145952180829\n",
      "Epoch [79/100], Loss: 1.4278115006663916\n",
      "Epoch [80/100], Loss: 1.4176761122310864\n",
      "Epoch [81/100], Loss: 1.415045520533686\n",
      "Epoch [82/100], Loss: 1.406721579449256\n",
      "Epoch [83/100], Loss: 1.3999798648497637\n",
      "Epoch [84/100], Loss: 1.3923529517620117\n",
      "Epoch [85/100], Loss: 1.3880557520005403\n",
      "Epoch [86/100], Loss: 1.3748259471200617\n",
      "Epoch [87/100], Loss: 1.372611247060244\n",
      "Epoch [88/100], Loss: 1.367992293499315\n",
      "Epoch [89/100], Loss: 1.3562751023665718\n",
      "Epoch [90/100], Loss: 1.3507277188093767\n",
      "Epoch [91/100], Loss: 1.3433399932158878\n",
      "Epoch [92/100], Loss: 1.3351440929695773\n",
      "Epoch [93/100], Loss: 1.333958109931263\n",
      "Epoch [94/100], Loss: 1.3223589353854088\n",
      "Epoch [95/100], Loss: 1.315103139413897\n",
      "Epoch [96/100], Loss: 1.311570872736099\n",
      "Epoch [97/100], Loss: 1.3055544491009334\n",
      "Epoch [98/100], Loss: 1.2977296144456205\n",
      "Epoch [99/100], Loss: 1.2894531842082968\n",
      "Epoch [100/100], Loss: 1.2840201519334409\n"
     ]
    }
   ],
   "source": [
    "##############################################################################\n",
    "# Load a new resnet model for adversarial training                           #\n",
    "# Train the model on perturbed images from                                   #\n",
    "# untargeted FGSM attack with epsilon = 8/255 on train dataset               #\n",
    "# Also use the following setup for training the model                        #\n",
    "##############################################################################\n",
    "\n",
    "# Load a new ResNet model for adversarial training\n",
    "adv_model = ResNet(num_cls=len(classes)).to(device)\n",
    "\n",
    "# Training setup\n",
    "learning_rate = 0.01\n",
    "criterion = nn.CrossEntropyLoss()\n",
    "optimizer = optim.SGD(adv_model.parameters(), lr=learning_rate, momentum=0.9)\n",
    "epochs = 100\n",
    "\n",
    "# FGSM attack for generating adversarial examples\n",
    "fgsm_attack = torchattacks.FGSM(adv_model, eps=8/255)\n",
    "\n",
    "# Adversarial training loop\n",
    "for epoch in range(epochs):\n",
    "    adv_model.train()\n",
    "    running_loss = 0.0\n",
    "    \n",
    "    for inputs, labels in trainloader:\n",
    "        inputs, labels = inputs.to(device), labels.to(device)\n",
    "        \n",
    "        adv_inputs = fgsm_attack(inputs, labels)\n",
    "        \n",
    "        optimizer.zero_grad()\n",
    "        \n",
    "\n",
    "        outputs = adv_model(adv_inputs)\n",
    "        loss = criterion(outputs, labels)\n",
    "\n",
    "        loss.backward()\n",
    "        optimizer.step()\n",
    "\n",
    "        running_loss += loss.item()\n",
    "    \n",
    "    # Log training loss\n",
    "    epoch_loss = running_loss / len(trainloader)\n",
    "    print(f'Epoch [{epoch + 1}/{epochs}], Loss: {epoch_loss}')\n",
    "\n",
    "# Save the adversarially trained model\n",
    "torch.save(adv_model.state_dict(), 'adv_resnet18.pth')\n",
    "\n",
    "################################ End #########################################"
   ]
  },
  {
   "cell_type": "code",
   "execution_count": 22,
   "id": "0c55b15a",
   "metadata": {
    "execution": {
     "iopub.execute_input": "2024-06-28T22:26:37.000073Z",
     "iopub.status.busy": "2024-06-28T22:26:36.999603Z",
     "iopub.status.idle": "2024-06-28T22:26:47.071391Z",
     "shell.execute_reply": "2024-06-28T22:26:47.070226Z"
    },
    "papermill": {
     "duration": 10.109875,
     "end_time": "2024-06-28T22:26:47.073539",
     "exception": false,
     "start_time": "2024-06-28T22:26:36.963664",
     "status": "completed"
    },
    "tags": []
   },
   "outputs": [
    {
     "name": "stdout",
     "output_type": "stream",
     "text": [
      "Train Accuracy of the model : 95.72%\n",
      "Test Accuracy of the model: 81.52%\n"
     ]
    }
   ],
   "source": [
    "##############################################################################\n",
    "# Evaluate the new model on the test dataset                                 #\n",
    "##############################################################################\n",
    "\n",
    "model.eval()  \n",
    "correct = 0\n",
    "total = 0\n",
    "\n",
    "with torch.no_grad():  # No need \n",
    "    for inputs, labels in trainloader:\n",
    "        inputs, labels = inputs.to(device), labels.to(device)\n",
    "        outputs = model(inputs)\n",
    "        _, predicted = torch.max(outputs.data, 1)\n",
    "        total += labels.size(0)\n",
    "        correct += (predicted == labels).sum().item()\n",
    "\n",
    "accuracy = 100 * correct / total\n",
    "print(f'Train Accuracy of the model : {accuracy:.2f}%')\n",
    "\n",
    "\n",
    "\n",
    "model.eval() \n",
    "correct = 0\n",
    "total = 0\n",
    "\n",
    "with torch.no_grad():  # No need \n",
    "    for inputs, labels in testloader:\n",
    "        inputs, labels = inputs.to(device), labels.to(device)\n",
    "        outputs = model(inputs)\n",
    "        _, predicted = torch.max(outputs.data, 1)\n",
    "        total += labels.size(0)\n",
    "        correct += (predicted == labels).sum().item()\n",
    "\n",
    "accuracy = 100 * correct / total\n",
    "print(f'Test Accuracy of the model: {accuracy:.2f}%')\n",
    "\n",
    "################################ End #########################################\n",
    "\n",
    "################################ End #########################################"
   ]
  },
  {
   "cell_type": "code",
   "execution_count": 23,
   "id": "47203050",
   "metadata": {
    "execution": {
     "iopub.execute_input": "2024-06-28T22:26:47.149716Z",
     "iopub.status.busy": "2024-06-28T22:26:47.149370Z",
     "iopub.status.idle": "2024-06-28T22:26:49.608756Z",
     "shell.execute_reply": "2024-06-28T22:26:49.607529Z"
    },
    "papermill": {
     "duration": 2.501131,
     "end_time": "2024-06-28T22:26:49.610997",
     "exception": false,
     "start_time": "2024-06-28T22:26:47.109866",
     "status": "completed"
    },
    "tags": []
   },
   "outputs": [
    {
     "name": "stdout",
     "output_type": "stream",
     "text": [
      "Test Accuracy of the adversarially trained model under FGSM attack: 36.12%\n"
     ]
    }
   ],
   "source": [
    "##############################################################################\n",
    "# Run FGSM attack on the adversarially trained model with epsilon = 8/255    #\n",
    "##############################################################################\n",
    "\n",
    "# Define the FGSM attack\n",
    "fgsm_attack = torchattacks.FGSM(adv_model, eps=8/255)\n",
    "\n",
    "def evaluate_fgsm_adversarial(model, testloader, attack):\n",
    "    model.eval()\n",
    "    correct = 0\n",
    "    total = 0\n",
    "    \n",
    "    for inputs, labels in testloader:\n",
    "        inputs, labels = inputs.to(device), labels.to(device)\n",
    "        adv_inputs = attack(inputs, labels)\n",
    "        outputs = model(adv_inputs)\n",
    "        _, predicted = torch.max(outputs.data, 1)\n",
    "        total += labels.size(0)\n",
    "        correct += (predicted == labels).sum().item()\n",
    "    \n",
    "    accuracy = 100 * correct / total\n",
    "    return accuracy\n",
    "\n",
    "# Evaluate the adversarially trained model with FGSM attack\n",
    "fgsm_accuracy = evaluate_fgsm_adversarial(adv_model, testloader, fgsm_attack)\n",
    "print(f'Test Accuracy of the adversarially trained model under FGSM attack: {fgsm_accuracy:.2f}%')\n",
    "\n",
    "################################ End #########################################\n"
   ]
  },
  {
   "cell_type": "code",
   "execution_count": 24,
   "id": "820f1728",
   "metadata": {
    "execution": {
     "iopub.execute_input": "2024-06-28T22:26:49.681991Z",
     "iopub.status.busy": "2024-06-28T22:26:49.681654Z",
     "iopub.status.idle": "2024-06-28T22:26:57.793384Z",
     "shell.execute_reply": "2024-06-28T22:26:57.792244Z"
    },
    "papermill": {
     "duration": 8.149347,
     "end_time": "2024-06-28T22:26:57.795512",
     "exception": false,
     "start_time": "2024-06-28T22:26:49.646165",
     "status": "completed"
    },
    "tags": []
   },
   "outputs": [
    {
     "name": "stdout",
     "output_type": "stream",
     "text": [
      "Test Accuracy of the adversarially trained model under PGD attack: 32.96%\n"
     ]
    }
   ],
   "source": [
    "##############################################################################\n",
    "#  Run PGD attack on the adversarially trained model with k=4                #\n",
    "##############################################################################\n",
    "\n",
    "# Define the PGD attack\n",
    "pgd_attack = LinfPGDAttack(model=adv_model, epsilon=8/255, num_steps=4, step_size=2/255)\n",
    "\n",
    "def evaluate_pgd_adversarial(model, testloader, attack):\n",
    "    model.eval()\n",
    "    correct = 0\n",
    "    total = 0\n",
    "    \n",
    "    for inputs, labels in testloader:\n",
    "        inputs, labels = inputs.to(device), labels.to(device)\n",
    "        adv_inputs = attack(inputs, labels)\n",
    "        outputs = model(adv_inputs)\n",
    "        _, predicted = torch.max(outputs.data, 1)\n",
    "        total += labels.size(0)\n",
    "        correct += (predicted == labels).sum().item()\n",
    "    \n",
    "    accuracy = 100 * correct / total\n",
    "    return accuracy\n",
    "\n",
    "# Evaluate the adversarially trained model with PGD attack\n",
    "pgd_accuracy = evaluate_pgd_adversarial(adv_model, testloader, pgd_attack)\n",
    "print(f'Test Accuracy of the adversarially trained model under PGD attack: {pgd_accuracy:.2f}%')\n",
    "\n",
    "################################ End #########################################\n"
   ]
  },
  {
   "cell_type": "markdown",
   "id": "d0ca0d48",
   "metadata": {
    "papermill": {
     "duration": 0.034644,
     "end_time": "2024-06-28T22:26:57.867036",
     "exception": false,
     "start_time": "2024-06-28T22:26:57.832392",
     "status": "completed"
    },
    "tags": []
   },
   "source": [
    "Answer the following questions:\n",
    "- **What happened to the accuracy of the adversarially trained model?**\n",
    "  The accuracy of the adversarially trained model is significantly high on clean data, with a train accuracy of 95.72% and a test accuracy of 81.52%.\n",
    "\n",
    "- **What do you conclude from the result of the FGSM attack on the adversarially trained model?**\n",
    "  The test accuracy under FGSM attack dropped to 36.12%. This indicates that while the adversarial training improved robustness against FGSM attacks compared to a non-adversarially trained model, the model is still vulnerable to this type of attack, showing a significant reduction in accuracy.\n",
    "\n",
    "- **What do you conclude from the result of the PGD attack on the adversarially trained model?**\n",
    "  The test accuracy under PGD attack is 32.96%, which is slightly lower than the accuracy under FGSM attack. This suggests that PGD, being a stronger and more iterative attack compared to FGSM, is more effective in reducing the model's performance, even when the model is adversarially trained.\n",
    "\n",
    "- **What is your final conclusion?**\n",
    "  Adversarial training enhances the robustness of models against adversarial attacks, but it does not entirely eliminate vulnerability. The adversarially trained model shows a significant drop in accuracy under both FGSM and PGD attacks, with PGD being more effective. This indicates that while adversarial training is beneficial, further improvements and advanced defense mechanisms are needed to enhance robustness against sophisticated adversarial attacks.\n"
   ]
  },
  {
   "cell_type": "markdown",
   "id": "034ae242",
   "metadata": {},
   "source": []
  }
 ],
 "metadata": {
  "kaggle": {
   "accelerator": "gpu",
   "dataSources": [],
   "dockerImageVersionId": 30733,
   "isGpuEnabled": true,
   "isInternetEnabled": true,
   "language": "python",
   "sourceType": "notebook"
  },
  "kernelspec": {
   "display_name": "Python 3",
   "language": "python",
   "name": "python3"
  },
  "language_info": {
   "codemirror_mode": {
    "name": "ipython",
    "version": 3
   },
   "file_extension": ".py",
   "mimetype": "text/x-python",
   "name": "python",
   "nbconvert_exporter": "python",
   "pygments_lexer": "ipython3",
   "version": "3.10.13"
  },
  "papermill": {
   "default_parameters": {},
   "duration": 5581.370815,
   "end_time": "2024-06-28T22:27:00.263413",
   "environment_variables": {},
   "exception": null,
   "input_path": "__notebook__.ipynb",
   "output_path": "__notebook__.ipynb",
   "parameters": {},
   "start_time": "2024-06-28T20:53:58.892598",
   "version": "2.5.0"
  }
 },
 "nbformat": 4,
 "nbformat_minor": 5
}
